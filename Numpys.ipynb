{
 "cells": [
  {
   "cell_type": "code",
   "execution_count": 1,
   "id": "7c568e5c-a40d-4386-8917-41a0da8dc811",
   "metadata": {},
   "outputs": [
    {
     "name": "stdout",
     "output_type": "stream",
     "text": [
      "[5 6 7 8]\n"
     ]
    }
   ],
   "source": [
    "import numpy as np\n",
    "# creating 1d array\n",
    "n1=np.array([5,6,7,8])\n",
    "print(n1)"
   ]
  },
  {
   "cell_type": "code",
   "execution_count": 2,
   "id": "c066933e-9dcb-48e9-b692-21ad99184dc4",
   "metadata": {},
   "outputs": [
    {
     "name": "stdout",
     "output_type": "stream",
     "text": [
      "[[ 3  4  5  6]\n",
      " [ 1  2 10  9]]\n"
     ]
    }
   ],
   "source": [
    "# creating 2d array\n",
    "n2=np.array([[3,4,5,6],[1,2,10,9]])\n",
    "print(n2)"
   ]
  },
  {
   "cell_type": "code",
   "execution_count": 3,
   "id": "73f47a98-0170-49fa-9bba-b6c56d891b4a",
   "metadata": {},
   "outputs": [
    {
     "name": "stdout",
     "output_type": "stream",
     "text": [
      "[[0 0 0 0 0]\n",
      " [0 0 0 0 0]\n",
      " [0 0 0 0 0]]\n"
     ]
    }
   ],
   "source": [
    "#zero filled 2d array\n",
    "n3=np.zeros([3,5],dtype=\"int32\")\n",
    "print(n3)"
   ]
  },
  {
   "cell_type": "code",
   "execution_count": 4,
   "id": "f236d5f5-b4d7-49c3-ad83-79f322633ff5",
   "metadata": {},
   "outputs": [
    {
     "name": "stdout",
     "output_type": "stream",
     "text": [
      "[[[1 1 1]\n",
      "  [1 1 1]\n",
      "  [1 1 1]]\n",
      "\n",
      " [[1 1 1]\n",
      "  [1 1 1]\n",
      "  [1 1 1]]]\n"
     ]
    }
   ],
   "source": [
    "#array filled with ones\n",
    "n4=np.ones([2,3,3],dtype=\"int32\")\n",
    "print(n4)"
   ]
  },
  {
   "cell_type": "code",
   "execution_count": 5,
   "id": "3b321a55-037c-42d0-84cb-114cc123bc03",
   "metadata": {},
   "outputs": [
    {
     "name": "stdout",
     "output_type": "stream",
     "text": [
      "[[ 1.67889981e+251  1.17163250e-311 -0.00000000e+000]]\n"
     ]
    }
   ],
   "source": [
    "# empty array - contains random junk values\n",
    "n5=np.empty([1,3])\n",
    "print(n5)"
   ]
  },
  {
   "cell_type": "code",
   "execution_count": 6,
   "id": "6093a41c-0e05-411b-9b00-99a986179656",
   "metadata": {},
   "outputs": [
    {
     "name": "stdout",
     "output_type": "stream",
     "text": [
      "[0 1 2 3 4 5 6 7 8 9]\n"
     ]
    }
   ],
   "source": [
    "# create array with range values\n",
    "n6=np.arange(10)\n",
    "print(n6)"
   ]
  },
  {
   "cell_type": "code",
   "execution_count": 7,
   "id": "38d56343-dc25-464c-a144-4cee920d4187",
   "metadata": {},
   "outputs": [
    {
     "name": "stdout",
     "output_type": "stream",
     "text": [
      "[-5  0  5 10 15 20 25]\n"
     ]
    }
   ],
   "source": [
    "n7= np.arange(-5,30,5) # start stop step\n",
    "print(n7)"
   ]
  },
  {
   "cell_type": "code",
   "execution_count": 8,
   "id": "68a6c461-85dc-4e5d-9899-5f7dac05af01",
   "metadata": {},
   "outputs": [
    {
     "name": "stdout",
     "output_type": "stream",
     "text": [
      "[ 0.          2.85714286  5.71428571  8.57142857 11.42857143 14.28571429\n",
      " 17.14285714 20.        ]\n"
     ]
    }
   ],
   "source": [
    "# linearly spaced entries\n",
    "n8=np.linspace(0,20,num=8)\n",
    "print(n8)"
   ]
  },
  {
   "cell_type": "code",
   "execution_count": 9,
   "id": "f3eebaef-91b5-44fe-8b8b-12b66222dd81",
   "metadata": {},
   "outputs": [
    {
     "name": "stdout",
     "output_type": "stream",
     "text": [
      "[[99 99 99 99 99]\n",
      " [99 99 99 99 99]]\n"
     ]
    }
   ],
   "source": [
    "n9= np.full([2,5],99)\n",
    "print(n9)"
   ]
  },
  {
   "cell_type": "code",
   "execution_count": 10,
   "id": "9520dbff-39ba-4131-b8f5-180da15a62a9",
   "metadata": {},
   "outputs": [
    {
     "name": "stdout",
     "output_type": "stream",
     "text": [
      "[[9. 9. 9.]]\n"
     ]
    }
   ],
   "source": [
    "n5.fill(9)\n",
    "print(n5)"
   ]
  },
  {
   "cell_type": "code",
   "execution_count": null,
   "id": "629702b4-6126-4bc3-b776-3455cf1da668",
   "metadata": {},
   "outputs": [],
   "source": []
  }
 ],
 "metadata": {
  "kernelspec": {
   "display_name": "Python 3 (ipykernel)",
   "language": "python",
   "name": "python3"
  },
  "language_info": {
   "codemirror_mode": {
    "name": "ipython",
    "version": 3
   },
   "file_extension": ".py",
   "mimetype": "text/x-python",
   "name": "python",
   "nbconvert_exporter": "python",
   "pygments_lexer": "ipython3",
   "version": "3.12.7"
  }
 },
 "nbformat": 4,
 "nbformat_minor": 5
}

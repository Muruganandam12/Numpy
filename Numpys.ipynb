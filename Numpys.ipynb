{
 "cells": [
  {
   "cell_type": "code",
   "execution_count": 1,
   "id": "7c568e5c-a40d-4386-8917-41a0da8dc811",
   "metadata": {},
   "outputs": [
    {
     "name": "stdout",
     "output_type": "stream",
     "text": [
      "[5 6 7 8]\n"
     ]
    }
   ],
   "source": [
    "import numpy as np\n",
    "# creating 1d array\n",
    "n1=np.array([5,6,7,8])\n",
    "print(n1)"
   ]
  },
  {
   "cell_type": "code",
   "execution_count": 2,
   "id": "c066933e-9dcb-48e9-b692-21ad99184dc4",
   "metadata": {},
   "outputs": [
    {
     "name": "stdout",
     "output_type": "stream",
     "text": [
      "[[ 3  4  5  6]\n",
      " [ 1  2 10  9]]\n"
     ]
    }
   ],
   "source": [
    "# creating 2d array\n",
    "n2=np.array([[3,4,5,6],[1,2,10,9]])\n",
    "print(n2)"
   ]
  },
  {
   "cell_type": "code",
   "execution_count": 3,
   "id": "73f47a98-0170-49fa-9bba-b6c56d891b4a",
   "metadata": {},
   "outputs": [
    {
     "name": "stdout",
     "output_type": "stream",
     "text": [
      "[[0 0 0 0 0]\n",
      " [0 0 0 0 0]\n",
      " [0 0 0 0 0]]\n"
     ]
    }
   ],
   "source": [
    "#zero filled 2d array\n",
    "n3=np.zeros([3,5],dtype=\"int32\")\n",
    "print(n3)"
   ]
  },
  {
   "cell_type": "code",
   "execution_count": 4,
   "id": "f236d5f5-b4d7-49c3-ad83-79f322633ff5",
   "metadata": {},
   "outputs": [
    {
     "name": "stdout",
     "output_type": "stream",
     "text": [
      "[[[1 1 1]\n",
      "  [1 1 1]\n",
      "  [1 1 1]]\n",
      "\n",
      " [[1 1 1]\n",
      "  [1 1 1]\n",
      "  [1 1 1]]]\n"
     ]
    }
   ],
   "source": [
    "#array filled with ones\n",
    "n4=np.ones([2,3,3],dtype=\"int32\")\n",
    "print(n4)"
   ]
  },
  {
   "cell_type": "code",
   "execution_count": 5,
   "id": "3b321a55-037c-42d0-84cb-114cc123bc03",
   "metadata": {},
   "outputs": [
    {
     "name": "stdout",
     "output_type": "stream",
     "text": [
      "[[1.05174001e-311 0.00000000e+000 1.05038792e-311]]\n"
     ]
    }
   ],
   "source": [
    "# empty array - contains random junk values\n",
    "n5=np.empty([1,3])\n",
    "print(n5)"
   ]
  },
  {
   "cell_type": "code",
   "execution_count": 6,
   "id": "6093a41c-0e05-411b-9b00-99a986179656",
   "metadata": {},
   "outputs": [
    {
     "name": "stdout",
     "output_type": "stream",
     "text": [
      "[0 1 2 3 4 5 6 7 8 9]\n"
     ]
    }
   ],
   "source": [
    "# create array with range values\n",
    "n6=np.arange(10)\n",
    "print(n6)"
   ]
  },
  {
   "cell_type": "code",
   "execution_count": 7,
   "id": "38d56343-dc25-464c-a144-4cee920d4187",
   "metadata": {},
   "outputs": [
    {
     "name": "stdout",
     "output_type": "stream",
     "text": [
      "[-5  0  5 10 15 20 25]\n"
     ]
    }
   ],
   "source": [
    "n7= np.arange(-5,30,5) # start stop step\n",
    "print(n7)"
   ]
  },
  {
   "cell_type": "code",
   "execution_count": 8,
   "id": "68a6c461-85dc-4e5d-9899-5f7dac05af01",
   "metadata": {},
   "outputs": [
    {
     "name": "stdout",
     "output_type": "stream",
     "text": [
      "[ 0.          2.85714286  5.71428571  8.57142857 11.42857143 14.28571429\n",
      " 17.14285714 20.        ]\n"
     ]
    }
   ],
   "source": [
    "# linearly spaced entries\n",
    "n8=np.linspace(0,20,num=8)\n",
    "print(n8)"
   ]
  },
  {
   "cell_type": "code",
   "execution_count": 9,
   "id": "f3eebaef-91b5-44fe-8b8b-12b66222dd81",
   "metadata": {},
   "outputs": [
    {
     "name": "stdout",
     "output_type": "stream",
     "text": [
      "[[99 99 99 99 99]\n",
      " [99 99 99 99 99]]\n"
     ]
    }
   ],
   "source": [
    "n9= np.full([2,5],99)\n",
    "print(n9)"
   ]
  },
  {
   "cell_type": "code",
   "execution_count": 10,
   "id": "9520dbff-39ba-4131-b8f5-180da15a62a9",
   "metadata": {},
   "outputs": [
    {
     "name": "stdout",
     "output_type": "stream",
     "text": [
      "[[9. 9. 9.]]\n"
     ]
    }
   ],
   "source": [
    "n5.fill(9)\n",
    "print(n5)"
   ]
  },
  {
   "cell_type": "markdown",
   "id": "c45d9178-e5bb-47a6-8b53-4aab84a0e9b8",
   "metadata": {},
   "source": [
    "# Accessing"
   ]
  },
  {
   "cell_type": "code",
   "execution_count": 11,
   "id": "79b6e7e9-b6b8-4b31-a147-7762663fda8c",
   "metadata": {},
   "outputs": [
    {
     "name": "stdout",
     "output_type": "stream",
     "text": [
      "1\n"
     ]
    }
   ],
   "source": [
    "print(n2[1,0])"
   ]
  },
  {
   "cell_type": "code",
   "execution_count": 12,
   "id": "604c913f-eca9-4948-b470-0ac48ed2983e",
   "metadata": {},
   "outputs": [
    {
     "name": "stdout",
     "output_type": "stream",
     "text": [
      "8\n"
     ]
    }
   ],
   "source": [
    "print(n1[-1])"
   ]
  },
  {
   "cell_type": "code",
   "execution_count": 13,
   "id": "1ec6b14b-6ce6-4121-8c36-d370e8f44573",
   "metadata": {},
   "outputs": [
    {
     "name": "stdout",
     "output_type": "stream",
     "text": [
      "[ 1  2 10  9]\n"
     ]
    }
   ],
   "source": [
    "print(n2[1,:])"
   ]
  },
  {
   "cell_type": "code",
   "execution_count": 14,
   "id": "de31a459-d89e-4abe-a36b-9b6443e68655",
   "metadata": {},
   "outputs": [
    {
     "name": "stdout",
     "output_type": "stream",
     "text": [
      "[[[ 1  1  1]\n",
      "  [ 1  1  1]\n",
      "  [ 1  1  1]]\n",
      "\n",
      " [[ 1  1  1]\n",
      "  [ 1  1 10]\n",
      "  [ 1  1  1]]]\n"
     ]
    }
   ],
   "source": [
    "n4[1,1,2] = 10\n",
    "print(n4)"
   ]
  },
  {
   "cell_type": "markdown",
   "id": "28368ae6-d9c4-4ca8-b413-5572255bffe6",
   "metadata": {},
   "source": [
    "# Size And Shape"
   ]
  },
  {
   "cell_type": "code",
   "execution_count": 15,
   "id": "0feaacbf-af65-4917-9623-61159fc2a39f",
   "metadata": {},
   "outputs": [
    {
     "name": "stdout",
     "output_type": "stream",
     "text": [
      "3\n"
     ]
    }
   ],
   "source": [
    "print(n4.ndim) # idim gives no.of dimensions or axes"
   ]
  },
  {
   "cell_type": "code",
   "execution_count": 16,
   "id": "187f5bb6-1a03-4fba-9dfe-a2909f8e92ab",
   "metadata": {},
   "outputs": [
    {
     "name": "stdout",
     "output_type": "stream",
     "text": [
      "(2, 3, 3)\n"
     ]
    }
   ],
   "source": [
    "print(n4.shape)"
   ]
  },
  {
   "cell_type": "code",
   "execution_count": 17,
   "id": "1c937f31-8498-4a6a-91ed-0fe4a5ac78df",
   "metadata": {},
   "outputs": [
    {
     "name": "stdout",
     "output_type": "stream",
     "text": [
      "18\n"
     ]
    }
   ],
   "source": [
    "print(n4.size)"
   ]
  },
  {
   "cell_type": "code",
   "execution_count": 18,
   "id": "ec58ca6e-d929-42a9-8dbe-6fec0c1887f0",
   "metadata": {},
   "outputs": [
    {
     "name": "stdout",
     "output_type": "stream",
     "text": [
      "int32\n"
     ]
    }
   ],
   "source": [
    "print(n4.dtype)"
   ]
  },
  {
   "cell_type": "code",
   "execution_count": 19,
   "id": "c7b5aae5-62a7-4b02-ad34-9a74db059c48",
   "metadata": {},
   "outputs": [
    {
     "name": "stdout",
     "output_type": "stream",
     "text": [
      "4\n"
     ]
    }
   ],
   "source": [
    "print(n4.itemsize)"
   ]
  },
  {
   "cell_type": "code",
   "execution_count": 20,
   "id": "664a6c25-bd13-43b2-9fed-c6c9db028045",
   "metadata": {},
   "outputs": [
    {
     "name": "stdout",
     "output_type": "stream",
     "text": [
      "72\n"
     ]
    }
   ],
   "source": [
    "print(n4.nbytes)"
   ]
  },
  {
   "cell_type": "markdown",
   "id": "aabe3008-210b-4174-bb01-1a31fed407e0",
   "metadata": {},
   "source": [
    "# Sorting"
   ]
  },
  {
   "cell_type": "code",
   "execution_count": 21,
   "id": "0da00ed1-3d1a-4edb-92b6-4860f53570d1",
   "metadata": {},
   "outputs": [
    {
     "data": {
      "text/plain": [
       "array([ 1,  3,  4,  5,  7,  8,  9, 10])"
      ]
     },
     "execution_count": 21,
     "metadata": {},
     "output_type": "execute_result"
    }
   ],
   "source": [
    "n10= np.array([3,4,1,9,5,10,7,8])\n",
    "np.sort(n10)"
   ]
  },
  {
   "cell_type": "code",
   "execution_count": 22,
   "id": "56a22624-2534-43de-a5cd-1816e8cafd77",
   "metadata": {},
   "outputs": [
    {
     "data": {
      "text/plain": [
       "array([[ 1,  3,  4,  9],\n",
       "       [ 5,  7,  8, 10]])"
      ]
     },
     "execution_count": 22,
     "metadata": {},
     "output_type": "execute_result"
    }
   ],
   "source": [
    "n11= np.array([[3,4,1,9],[5,10,7,8]])\n",
    "np.sort(n11)"
   ]
  },
  {
   "cell_type": "code",
   "execution_count": 23,
   "id": "6a56a4ef-222f-46d9-8abd-1313e9a5631f",
   "metadata": {},
   "outputs": [
    {
     "data": {
      "text/plain": [
       "array([[ 3,  4,  1,  8],\n",
       "       [ 5, 10,  7,  9]])"
      ]
     },
     "execution_count": 23,
     "metadata": {},
     "output_type": "execute_result"
    }
   ],
   "source": [
    "np.sort(n11,axis=0)"
   ]
  },
  {
   "cell_type": "code",
   "execution_count": 24,
   "id": "43969cc6-95d4-4629-9f37-68c4eed0b686",
   "metadata": {},
   "outputs": [
    {
     "data": {
      "text/plain": [
       "array([[ 1,  3,  4,  9],\n",
       "       [ 5,  7,  8, 10]])"
      ]
     },
     "execution_count": 24,
     "metadata": {},
     "output_type": "execute_result"
    }
   ],
   "source": [
    "np.sort(n11,axis=1)"
   ]
  },
  {
   "cell_type": "markdown",
   "id": "064d6447-fe73-43a6-bdf8-92b651e61091",
   "metadata": {},
   "source": [
    "# Reshaping and Array Convertions"
   ]
  },
  {
   "cell_type": "code",
   "execution_count": 25,
   "id": "37428677-c5b9-4c4e-9dff-636a74089ee0",
   "metadata": {},
   "outputs": [
    {
     "name": "stdout",
     "output_type": "stream",
     "text": [
      "[[ 3  4]\n",
      " [ 1  9]\n",
      " [ 5 10]\n",
      " [ 7  8]]\n"
     ]
    }
   ],
   "source": [
    "n12=n10.reshape(4,2)\n",
    "print(n12)"
   ]
  },
  {
   "cell_type": "code",
   "execution_count": 26,
   "id": "2ed6d8e6-422a-46b1-84f1-29f7c43f4481",
   "metadata": {},
   "outputs": [
    {
     "name": "stdout",
     "output_type": "stream",
     "text": [
      "[0 1 2 3]\n",
      "[5 6 7 8]\n",
      "[0 1 2 3 5 6 7 8]\n"
     ]
    }
   ],
   "source": [
    "# joining 2 arrays using concatenate\n",
    "n13=np.arange(4)\n",
    "print(n13)\n",
    "n14=np.arange(5,9)\n",
    "print(n14)\n",
    "n15 = np.concatenate((n13,n14))\n",
    "print(n15)"
   ]
  },
  {
   "cell_type": "code",
   "execution_count": 27,
   "id": "927810a9-3e73-406e-9bbd-960758192439",
   "metadata": {},
   "outputs": [
    {
     "name": "stdout",
     "output_type": "stream",
     "text": [
      "[0 1 2 3 4 5 6 7]\n",
      "[[0 1 2 3 4 5 6 7]]\n",
      "(1, 8)\n",
      "[[0]\n",
      " [1]\n",
      " [2]\n",
      " [3]\n",
      " [4]\n",
      " [5]\n",
      " [6]\n",
      " [7]]\n",
      "(8, 1)\n"
     ]
    }
   ],
   "source": [
    "# converting 1d array to 2d array\n",
    "n16= np.arange(8)\n",
    "print(n16)\n",
    "n17=n16[np.newaxis,:]\n",
    "print(n17)\n",
    "print(n17.shape)\n",
    "n18=n16[:,np.newaxis]\n",
    "print(n18)\n",
    "print(n18.shape)"
   ]
  },
  {
   "cell_type": "code",
   "execution_count": 28,
   "id": "792184d9-df5e-4a07-b02c-bb876834bb1d",
   "metadata": {},
   "outputs": [
    {
     "name": "stdout",
     "output_type": "stream",
     "text": [
      "[[0]\n",
      " [1]\n",
      " [2]\n",
      " [3]\n",
      " [4]\n",
      " [5]\n",
      " [6]\n",
      " [7]]\n"
     ]
    }
   ],
   "source": [
    "n19 = np.expand_dims(n16,axis = 1)\n",
    "print(n19)"
   ]
  },
  {
   "cell_type": "code",
   "execution_count": 29,
   "id": "87c630c8-4b90-4fd8-859a-0a383c337298",
   "metadata": {},
   "outputs": [
    {
     "name": "stdout",
     "output_type": "stream",
     "text": [
      "[[0 1 2 3 4 5 6 7]]\n"
     ]
    }
   ],
   "source": [
    "n20 = np.expand_dims(n16,axis = 0)\n",
    "print(n20)"
   ]
  },
  {
   "cell_type": "markdown",
   "id": "b7e32139-d031-4dea-afde-379ec909df82",
   "metadata": {},
   "source": [
    "# Indexing And Slicing"
   ]
  },
  {
   "cell_type": "code",
   "execution_count": 30,
   "id": "7880510b-8b79-4488-bc6e-3cea2c4cf227",
   "metadata": {},
   "outputs": [
    {
     "name": "stdout",
     "output_type": "stream",
     "text": [
      "[0 1 2 3 4 5 6 7 8 9]\n",
      "[0 1 2 3 4]\n"
     ]
    }
   ],
   "source": [
    "n21= np.arange(10)\n",
    "print(n21)\n",
    "print(n21[n21 < 5])"
   ]
  },
  {
   "cell_type": "code",
   "execution_count": 31,
   "id": "461fcb3b-40a7-43c2-9142-429e95bfccb5",
   "metadata": {},
   "outputs": [
    {
     "name": "stdout",
     "output_type": "stream",
     "text": [
      "[4 5 6 7]\n"
     ]
    }
   ],
   "source": [
    "print(n21[(n21>3) & (n21<8)])"
   ]
  },
  {
   "cell_type": "code",
   "execution_count": 32,
   "id": "d0dbec82-2f99-4a9f-937a-ca25b3cfa0bc",
   "metadata": {},
   "outputs": [
    {
     "name": "stdout",
     "output_type": "stream",
     "text": [
      "[False False False False False False  True  True  True  True]\n",
      "[6 7 8 9]\n"
     ]
    }
   ],
   "source": [
    "five_up = n21>5\n",
    "print(five_up)\n",
    "print(n21[five_up])"
   ]
  },
  {
   "cell_type": "code",
   "execution_count": 33,
   "id": "13683429-22fd-4f53-9971-cbfcd7619236",
   "metadata": {},
   "outputs": [
    {
     "name": "stdout",
     "output_type": "stream",
     "text": [
      "(array([6, 7, 8, 9], dtype=int64),)\n"
     ]
    }
   ],
   "source": [
    "print(np.nonzero(n21>5))"
   ]
  },
  {
   "cell_type": "code",
   "execution_count": 34,
   "id": "7e6aa37b-8ce8-4d91-a9ed-16d545f67eba",
   "metadata": {},
   "outputs": [
    {
     "name": "stdout",
     "output_type": "stream",
     "text": [
      "[3 4 5 6]\n"
     ]
    }
   ],
   "source": [
    "print(n21[3:7])"
   ]
  },
  {
   "cell_type": "markdown",
   "id": "ad9e1ce6-0be4-4316-94ea-a35606214c37",
   "metadata": {},
   "source": [
    "# Stack Split"
   ]
  },
  {
   "cell_type": "code",
   "execution_count": 35,
   "id": "f8f6f5d0-7e64-4919-b596-ddd21fe54ed9",
   "metadata": {},
   "outputs": [
    {
     "data": {
      "text/plain": [
       "array([[1, 2, 5, 6],\n",
       "       [3, 4, 7, 8]])"
      ]
     },
     "execution_count": 35,
     "metadata": {},
     "output_type": "execute_result"
    }
   ],
   "source": [
    "n22= np.array([[1,2],[3,4]])\n",
    "n23=np.array([[5,6],[7,8]])\n",
    "np.hstack((n22,n23))"
   ]
  },
  {
   "cell_type": "code",
   "execution_count": 36,
   "id": "25569be6-dfd5-46b5-a39a-547a8417ca51",
   "metadata": {},
   "outputs": [
    {
     "data": {
      "text/plain": [
       "array([[1, 2],\n",
       "       [3, 4],\n",
       "       [5, 6],\n",
       "       [7, 8]])"
      ]
     },
     "execution_count": 36,
     "metadata": {},
     "output_type": "execute_result"
    }
   ],
   "source": [
    "np.vstack((n22,n23))"
   ]
  },
  {
   "cell_type": "code",
   "execution_count": 37,
   "id": "52d44b1f-a9e3-424a-b825-e9a1f5800656",
   "metadata": {},
   "outputs": [
    {
     "name": "stdout",
     "output_type": "stream",
     "text": [
      "[ 0  1  2  3  4  5  6  7  8  9 10 11 12 13 14 15 16 17 18 19]\n"
     ]
    },
    {
     "data": {
      "text/plain": [
       "[array([0, 1, 2, 3, 4]),\n",
       " array([5, 6, 7, 8, 9]),\n",
       " array([10, 11, 12, 13, 14]),\n",
       " array([15, 16, 17, 18, 19])]"
      ]
     },
     "execution_count": 37,
     "metadata": {},
     "output_type": "execute_result"
    }
   ],
   "source": [
    "n24 = np.arange(20)\n",
    "print(n24)\n",
    "np.hsplit(n24,4)"
   ]
  },
  {
   "cell_type": "markdown",
   "id": "866ae05b-9309-40f3-baa2-6758713b8f8e",
   "metadata": {},
   "source": [
    "# Copy\n",
    "\n",
    "\n",
    "\n",
    "\n",
    "\n"
   ]
  },
  {
   "cell_type": "code",
   "execution_count": 38,
   "id": "41338709-dfac-4c23-9a19-39fbf1b31c4e",
   "metadata": {},
   "outputs": [
    {
     "name": "stdout",
     "output_type": "stream",
     "text": [
      "[100   1   2   3   4   5   6   7   8   9  10  11  12  13  14  15  16  17\n",
      "  18  19]\n",
      "[100   1   2   3   4]\n"
     ]
    }
   ],
   "source": [
    "n25 = n24[0:5] # shallow copy\n",
    "n24[0] = 100\n",
    "print(n24)\n",
    "print(n25)"
   ]
  },
  {
   "cell_type": "code",
   "execution_count": 39,
   "id": "8dc55b34-fea0-4406-9ebb-7eeb41646038",
   "metadata": {},
   "outputs": [
    {
     "name": "stdout",
     "output_type": "stream",
     "text": [
      "[200   1   2   3   4   5   6   7   8   9  10  11  12  13  14  15  16  17\n",
      "  18  19]\n",
      "[100   1   2   3   4   5   6   7   8   9  10  11  12  13  14  15  16  17\n",
      "  18  19]\n"
     ]
    }
   ],
   "source": [
    "3 # deep copy\n",
    "n26 = n24.copy()\n",
    "n24[0]=200\n",
    "print(n24)\n",
    "print(n26)"
   ]
  },
  {
   "cell_type": "markdown",
   "id": "0e9f6525-2ab7-4d1c-b6f5-24b81d3454d7",
   "metadata": {},
   "source": [
    "# Math"
   ]
  },
  {
   "cell_type": "code",
   "execution_count": 40,
   "id": "83424df5-e7fa-4507-9697-9d7b753f1e0d",
   "metadata": {},
   "outputs": [
    {
     "name": "stdout",
     "output_type": "stream",
     "text": [
      "[[1 2]\n",
      " [3 4]]\n",
      "[[5 6]\n",
      " [7 8]]\n",
      "[[ 6  8]\n",
      " [10 12]]\n"
     ]
    }
   ],
   "source": [
    "print(n22)\n",
    "print(n23)\n",
    "print(n22+n23)"
   ]
  },
  {
   "cell_type": "code",
   "execution_count": 41,
   "id": "4a4a7e38-ef8f-4abc-8ac0-bfd429001e86",
   "metadata": {},
   "outputs": [
    {
     "name": "stdout",
     "output_type": "stream",
     "text": [
      "[ 0.86231887  0.54030231 -0.41614684 -0.9899925  -0.65364362  0.28366219\n",
      "  0.96017029  0.75390225 -0.14550003 -0.91113026 -0.83907153  0.0044257\n",
      "  0.84385396  0.90744678  0.13673722 -0.75968791 -0.95765948 -0.27516334\n",
      "  0.66031671  0.98870462]\n"
     ]
    }
   ],
   "source": [
    "print(np.cos(n26))"
   ]
  },
  {
   "cell_type": "code",
   "execution_count": 42,
   "id": "b8ea0ba9-b651-4824-8909-9a4677ddbdcf",
   "metadata": {},
   "outputs": [
    {
     "name": "stdout",
     "output_type": "stream",
     "text": [
      "[100   1   2   3   4   5   6   7   8   9  10  11  12  13  14  15  16  17\n",
      "  18  19]\n",
      "290\n",
      "100\n",
      "1\n",
      "[500   5  10  15  20  25  30  35  40  45  50  55  60  65  70  75  80  85\n",
      "  90  95]\n"
     ]
    }
   ],
   "source": [
    "print(n26)\n",
    "print(n26.sum())\n",
    "print(n26.max())\n",
    "print(n26.min())\n",
    "print(n26*5)"
   ]
  },
  {
   "cell_type": "markdown",
   "id": "13e37d20-1305-4ec2-a9a8-ea64607a9e82",
   "metadata": {},
   "source": []
  }
 ],
 "metadata": {
  "kernelspec": {
   "display_name": "Python 3 (ipykernel)",
   "language": "python",
   "name": "python3"
  },
  "language_info": {
   "codemirror_mode": {
    "name": "ipython",
    "version": 3
   },
   "file_extension": ".py",
   "mimetype": "text/x-python",
   "name": "python",
   "nbconvert_exporter": "python",
   "pygments_lexer": "ipython3",
   "version": "3.12.7"
  }
 },
 "nbformat": 4,
 "nbformat_minor": 5
}

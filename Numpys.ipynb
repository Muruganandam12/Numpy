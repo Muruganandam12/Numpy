{
 "cells": [
  {
   "cell_type": "code",
   "execution_count": 1,
   "id": "7c568e5c-a40d-4386-8917-41a0da8dc811",
   "metadata": {},
   "outputs": [
    {
     "name": "stdout",
     "output_type": "stream",
     "text": [
      "[5 6 7 8]\n"
     ]
    }
   ],
   "source": [
    "import numpy as np\n",
    "# creating 1d array\n",
    "n1=np.array([5,6,7,8])\n",
    "print(n1)"
   ]
  },
  {
   "cell_type": "code",
   "execution_count": 2,
   "id": "c066933e-9dcb-48e9-b692-21ad99184dc4",
   "metadata": {},
   "outputs": [
    {
     "name": "stdout",
     "output_type": "stream",
     "text": [
      "[[ 3  4  5  6]\n",
      " [ 1  2 10  9]]\n"
     ]
    }
   ],
   "source": [
    "# creating 2d array\n",
    "n2=np.array([[3,4,5,6],[1,2,10,9]])\n",
    "print(n2)"
   ]
  },
  {
   "cell_type": "code",
   "execution_count": null,
   "id": "73f47a98-0170-49fa-9bba-b6c56d891b4a",
   "metadata": {},
   "outputs": [],
   "source": []
  }
 ],
 "metadata": {
  "kernelspec": {
   "display_name": "Python 3 (ipykernel)",
   "language": "python",
   "name": "python3"
  },
  "language_info": {
   "codemirror_mode": {
    "name": "ipython",
    "version": 3
   },
   "file_extension": ".py",
   "mimetype": "text/x-python",
   "name": "python",
   "nbconvert_exporter": "python",
   "pygments_lexer": "ipython3",
   "version": "3.12.7"
  }
 },
 "nbformat": 4,
 "nbformat_minor": 5
}
